{
 "cells": [
  {
   "cell_type": "markdown",
   "id": "a7798879",
   "metadata": {},
   "source": [
    "#### Narges Babaahmadi\n",
    "#### MLP from scratch\n",
    "#### Importing needed libraries"
   ]
  },
  {
   "cell_type": "code",
   "execution_count": 1,
   "id": "c955abb4",
   "metadata": {},
   "outputs": [],
   "source": [
    "import numpy as np\n",
    "import random"
   ]
  },
  {
   "cell_type": "markdown",
   "id": "e839b8ed",
   "metadata": {},
   "source": [
    "#### Constructing MLP class"
   ]
  },
  {
   "cell_type": "code",
   "execution_count": 2,
   "id": "75e134dd",
   "metadata": {},
   "outputs": [],
   "source": [
    "class MLP(object):\n",
    "    # num_inputs is the number of neurons in input layer\n",
    "    # hidden_layers is a list that include number of neurons of each layer\n",
    "    # num_outputs stores the number of neurons in the output layer\n",
    "    def __init__(self, num_inputs, hidden_layers, num_outputs):\n",
    "\n",
    "        self.num_inputs = num_inputs\n",
    "        self.hidden_layers = hidden_layers\n",
    "        self.num_outputs = num_outputs\n",
    "\n",
    "        # create a representation of the layers\n",
    "        layers = [num_inputs] + hidden_layers + [num_outputs]\n",
    "\n",
    "        # initializing the weights with random values\n",
    "        weights = []\n",
    "        for i in range(len(layers) - 1):\n",
    "            w = np.random.rand(layers[i], layers[i + 1])\n",
    "            weights.append(w)\n",
    "        self.weights = weights\n",
    "\n",
    "        # save derivatives per layer\n",
    "        derivatives = []\n",
    "        for i in range(len(layers) - 1):\n",
    "            d = np.zeros((layers[i], layers[i + 1]))\n",
    "            derivatives.append(d)\n",
    "        self.derivatives = derivatives\n",
    "\n",
    "        # save activations per layer\n",
    "        activations = []\n",
    "        for i in range(len(layers)):\n",
    "            a = np.zeros(layers[i])\n",
    "            activations.append(a)\n",
    "        self.activations = activations"
   ]
  },
  {
   "cell_type": "markdown",
   "id": "e5c15f38",
   "metadata": {},
   "source": [
    "#### sigmoid function"
   ]
  },
  {
   "cell_type": "code",
   "execution_count": 3,
   "id": "24507ded",
   "metadata": {},
   "outputs": [],
   "source": [
    "class MLP(MLP):\n",
    "    def sigmoid(self, x):\n",
    "        r = 1.0 / (1 + np.exp(-x))\n",
    "        return r"
   ]
  },
  {
   "cell_type": "markdown",
   "id": "cb57ab01",
   "metadata": {},
   "source": [
    "#### Derivative of sigmoid function"
   ]
  },
  {
   "cell_type": "code",
   "execution_count": 4,
   "id": "fa59f554",
   "metadata": {},
   "outputs": [],
   "source": [
    "class MLP(MLP):\n",
    "    def Sderivative(self, x):\n",
    "        r = x * (1.0 - x)\n",
    "        return r"
   ]
  },
  {
   "cell_type": "markdown",
   "id": "95228557",
   "metadata": {},
   "source": [
    "#### gradient descent"
   ]
  },
  {
   "cell_type": "code",
   "execution_count": 5,
   "id": "75f19d3e",
   "metadata": {},
   "outputs": [],
   "source": [
    "class MLP(MLP):\n",
    "    def gradient_descent(self, alpha):\n",
    "        for i in range(len(self.weights)):\n",
    "            weights = self.weights[i]\n",
    "            derivatives = self.derivatives[i]\n",
    "            weights += derivatives * alpha"
   ]
  },
  {
   "cell_type": "markdown",
   "id": "9abfb58b",
   "metadata": {},
   "source": [
    "#### Forward pass step"
   ]
  },
  {
   "cell_type": "code",
   "execution_count": 6,
   "id": "0eef835b",
   "metadata": {},
   "outputs": [],
   "source": [
    "class MLP(MLP):\n",
    "    def forward_propagate(self, inputs):\n",
    "        # the input layer activation is just the input itself\n",
    "        activations = inputs\n",
    "\n",
    "        self.activations[0] = activations\n",
    "\n",
    "        # iterate through the network layers\n",
    "        for i, w in enumerate(self.weights):\n",
    "            net_inputs = np.dot(activations, w)\n",
    "\n",
    "            # apply sigmoid activation function\n",
    "            activations = self.sigmoid(net_inputs)\n",
    "\n",
    "            self.activations[i + 1] = activations\n",
    "\n",
    "        # return output layer activation\n",
    "        return activations"
   ]
  },
  {
   "cell_type": "markdown",
   "id": "c462ea61",
   "metadata": {},
   "source": [
    "#### Back propagation step"
   ]
  },
  {
   "cell_type": "code",
   "execution_count": 7,
   "id": "6606d0d5",
   "metadata": {},
   "outputs": [],
   "source": [
    "class MLP(MLP):\n",
    "    def back_propagate(self, error):\n",
    "\n",
    "        # iterate backwards through the network layers\n",
    "        for i in reversed(range(len(self.derivatives))):\n",
    "            activations = self.activations[i+1]\n",
    "\n",
    "            # apply sigmoid derivative function\n",
    "            delta = error * self.Sderivative(activations)\n",
    "\n",
    "            # reshape delta as to have it as a 2d array\n",
    "            delta_re = delta.reshape(delta.shape[0], -1).T\n",
    "\n",
    "            current_activations = self.activations[i]\n",
    "\n",
    "            # reshape activations as to have them as a 2d column matrix\n",
    "            current_activations = current_activations.reshape(current_activations.shape[0],-1)\n",
    "\n",
    "            self.derivatives[i] = np.dot(current_activations, delta_re)\n",
    "            \n",
    "            error = np.dot(delta, self.weights[i].T)"
   ]
  },
  {
   "cell_type": "markdown",
   "id": "bae5c218",
   "metadata": {},
   "source": [
    "#### Function to train our network"
   ]
  },
  {
   "cell_type": "code",
   "execution_count": 8,
   "id": "b4e86131",
   "metadata": {},
   "outputs": [],
   "source": [
    "class MLP(MLP):\n",
    "    def train(self, inputs, targets, epochs, alpha):\n",
    "\n",
    "        for i in range(epochs):\n",
    "            sum_errors = 0\n",
    "            \n",
    "            for j, input in enumerate(inputs):\n",
    "                target = targets[j]\n",
    "                output = self.forward_propagate(input)\n",
    "                error = target - output\n",
    "\n",
    "                self.back_propagate(error)\n",
    "                \n",
    "                self.gradient_descent(alpha)\n",
    "\n",
    "        print(\"Training complete!\")"
   ]
  },
  {
   "cell_type": "markdown",
   "id": "4fe697e7",
   "metadata": {},
   "source": [
    "#### Function to read test and train files"
   ]
  },
  {
   "cell_type": "code",
   "execution_count": 9,
   "id": "ad773ab6",
   "metadata": {},
   "outputs": [],
   "source": [
    "def file_read(file_name):\n",
    "    file = open(file_name)\n",
    "    input_raw = file.read()\n",
    "    file.close()\n",
    "    input_mat = input_raw.split('\\n')\n",
    "    items = []\n",
    "    targets = []\n",
    "    for i in range(len(input_mat)-1):\n",
    "        help_arr = []\n",
    "        x = input_mat[i].split()\n",
    "        # print(x)\n",
    "        help_arr.append(float(x[0]))\n",
    "        help_arr.append(float(x[1]))\n",
    "        items.append(help_arr)\n",
    "        targets.append([int(x[2])])\n",
    "    items = np.array(items)\n",
    "    targets = np.array(targets)\n",
    "    return items, targets"
   ]
  },
  {
   "cell_type": "markdown",
   "id": "99fe4ec3",
   "metadata": {},
   "source": [
    "#### Main function"
   ]
  },
  {
   "cell_type": "code",
   "execution_count": 27,
   "id": "83054817",
   "metadata": {},
   "outputs": [
    {
     "name": "stdout",
     "output_type": "stream",
     "text": [
      "Training complete!\n",
      "accuracy : 93.8\n"
     ]
    }
   ],
   "source": [
    "if __name__ == \"__main__\":\n",
    "    items , targets = file_read(\"train\")\n",
    "    \n",
    "    # create a Multilayer Perceptron with two hidden layers\n",
    "    mlp = MLP(2, [20,20], 1)\n",
    "\n",
    "    mlp.train(items, targets, 100, 0.1)\n",
    "    \n",
    "    \n",
    "    inputs, target = file_read(\"test\")\n",
    "    \n",
    "    #getting prediction\n",
    "    output = mlp.forward_propagate(inputs)\n",
    "    \n",
    "    for i in range(len(output)):\n",
    "        if output[i] > 0.5:\n",
    "            output[i] = 1\n",
    "        else:\n",
    "            output[i] = 0\n",
    "    check = 0\n",
    "    wrongs = []\n",
    "    for i in range(len(output)):\n",
    "        if output[i] != target[i]:\n",
    "            check += 1\n",
    "            wrongs.append(inputs[i])\n",
    "    v = 1000 - check\n",
    "    print(\"accuracy :\", end=\" \")\n",
    "    print(v/10)"
   ]
  },
  {
   "cell_type": "markdown",
   "id": "4e7eb355",
   "metadata": {},
   "source": [
    "As you see the best accuracy i got was 93.8 and i achieved it using 2 hidden layers, each having 20 neurons."
   ]
  },
  {
   "cell_type": "markdown",
   "id": "713bdded",
   "metadata": {},
   "source": [
    "#### points that are predicted wrong"
   ]
  },
  {
   "cell_type": "code",
   "execution_count": 28,
   "id": "ae978107",
   "metadata": {},
   "outputs": [
    {
     "name": "stdout",
     "output_type": "stream",
     "text": [
      "wrong predicted data :\n",
      "[array([-0.63368781,  0.46984654]), array([ 0.02052918, -0.74106431]), array([0.23047427, 1.3218883 ]), array([ 0.20850235, -1.50069896]), array([0.50492571, 1.33289141]), array([-0.02590112, -0.63746317]), array([-0.18255429, -0.59171687]), array([-0.29985468,  0.08154997]), array([-0.7483894 , -0.51972681]), array([-0.180833  , -1.37166912]), array([ 1.00480338, -2.24461118]), array([-0.28756905,  0.10411097]), array([ 0.22535723, -1.73359793]), array([-0.84259294, -1.40771658]), array([-0.2675737 , -1.60862594]), array([ 0.52330092, -1.22786949]), array([ 0.40379943, -1.22460592]), array([ 0.02890577, -0.72352707]), array([ 0.95927101, -2.68560886]), array([ 0.08762527, -1.1504663 ]), array([ 0.33942015, -1.93150785]), array([ 0.24488748, -1.53440147]), array([ 0.62708273, -1.52628   ]), array([-1.38032856, -0.50102086]), array([ 0.31439824, -1.16014834]), array([-0.05466003, -0.81771656]), array([-0.36688013,  0.46480537]), array([ 0.34958823, -0.53002099]), array([ 0.45960194, -1.17800049]), array([-0.50530054,  0.18547854]), array([ 0.01313829, -0.98635314]), array([ 0.25817419, -0.58004836]), array([-0.03505292, -0.24404063]), array([-0.09502145, -1.13767391]), array([ 0.16696665, -0.20090554]), array([ 1.47196233, -0.8675042 ]), array([-0.03869609, -1.8207771 ]), array([ 0.1197366 , -0.05301386]), array([ 0.4263037 , -1.43153847]), array([ 0.66396082, -2.08258177]), array([ 0.17234864, -3.06977631]), array([-0.73787576, -0.37098003]), array([-0.61490717, -0.74419507]), array([-0.69501625, -0.87823056]), array([ 0.19681188, -1.48146297]), array([-0.83896317,  1.85999026]), array([-0.14500691,  0.11465407]), array([-0.61547371, -0.9093948 ]), array([ 0.08323192, -1.13821338]), array([-0.79102606, -1.45978525]), array([ 0.82844215, -1.77990153]), array([0.07858513, 0.24185496]), array([-0.23414737, -0.35777409]), array([ 0.11789156, -0.24351994]), array([-0.28544307, -0.12885509]), array([-0.339427  , -0.86780421]), array([ 1.33726701, -1.58413455]), array([ 0.49818619, -1.54366599]), array([ 0.35923689, -1.470728  ]), array([-0.06458046, -0.0165442 ]), array([-0.58771328, -0.91713859]), array([-0.23724999,  0.03265178])]\n"
     ]
    }
   ],
   "source": [
    "print(\"wrong predicted data :\")\n",
    "print(wrongs)"
   ]
  },
  {
   "cell_type": "code",
   "execution_count": 29,
   "id": "4bf79b83",
   "metadata": {},
   "outputs": [],
   "source": [
    "x_output_zero = []\n",
    "y_output_zero = []\n",
    "x_output_one = []\n",
    "y_output_one = []\n",
    "for i in range(len(output)):\n",
    "    if(output[i]==0):\n",
    "        x_output_zero.append(inputs[i][0])\n",
    "        y_output_zero.append(inputs[i][1])\n",
    "    else:\n",
    "        x_output_one.append(inputs[i][0])\n",
    "        y_output_one.append(inputs[i][1])"
   ]
  },
  {
   "cell_type": "code",
   "execution_count": 30,
   "id": "46645c4f",
   "metadata": {},
   "outputs": [
    {
     "data": {
      "image/png": "[encoded data removed]",
      "text/plain": [
       "<Figure size 432x288 with 1 Axes>"
      ]
     },
     "metadata": {
      "needs_background": "light"
     },
     "output_type": "display_data"
    }
   ],
   "source": [
    "from matplotlib import pyplot as plt\n",
    "plt.scatter(x_output_zero,y_output_zero,color='red')\n",
    "plt.scatter(x_output_one,y_output_one,color='blue')\n",
    "plt.show()"
   ]
  },
  {
   "cell_type": "markdown",
   "id": "21ece041",
   "metadata": {},
   "source": [
    "#### Blue points are the ones that are predicted to be 1 ,and red points are the one that predicted to be zero"
   ]
  }
 ],
 "metadata": {
  "kernelspec": {
   "display_name": "Python 3 (ipykernel)",
   "language": "python",
   "name": "python3"
  },
  "language_info": {
   "codemirror_mode": {
    "name": "ipython",
    "version": 3
   },
   "file_extension": ".py",
   "mimetype": "text/x-python",
   "name": "python",
   "nbconvert_exporter": "python",
   "pygments_lexer": "ipython3",
   "version": "3.8.10"
  }
 },
 "nbformat": 4,
 "nbformat_minor": 5
}
